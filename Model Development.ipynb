{
 "cells": [
  {
   "cell_type": "code",
   "execution_count": 14,
   "id": "42d7e542",
   "metadata": {},
   "outputs": [],
   "source": [
    "import pandas as pd\n",
    "import numpy as np\n"
   ]
  },
  {
   "cell_type": "markdown",
   "id": "ab43629f",
   "metadata": {},
   "source": [
    "# Load the two datasets into pandas dataframes"
   ]
  },
  {
   "cell_type": "code",
   "execution_count": 15,
   "id": "0a4693ef",
   "metadata": {},
   "outputs": [],
   "source": [
    "data = np.loadtxt(\"data/HT_Sensor_dataset.dat\", skiprows=1)\n",
    "columns = ['id', 'time', 'r1', 'r2', 'r3', 'r4', 'r5', 'r6', 'r7', 'r8', 'temp', 'humidity']\n",
    "dataset = pd.DataFrame(data, columns=columns)\n",
    "dataset['id'] = dataset['id'].astype(int)\n"
   ]
  },
  {
   "cell_type": "code",
   "execution_count": 16,
   "id": "1927e35e",
   "metadata": {},
   "outputs": [],
   "source": [
    "metadata = np.loadtxt(\"data/HT_Sensor_metadata.dat\", skiprows=1, dtype=str)\n",
    "metadata_columns = ['id', 'date', 'class', 'start_time_hours', 'duration_hours']\n",
    "metadataset = pd.DataFrame(metadata, columns=metadata_columns)\n",
    "metadataset['id'] = metadataset['id'].astype(int)\n"
   ]
  },
  {
   "cell_type": "markdown",
   "id": "a1571aa2",
   "metadata": {},
   "source": [
    "## Inner Join the tables to get our main dataset"
   ]
  },
  {
   "cell_type": "code",
   "execution_count": 17,
   "id": "2603cf82",
   "metadata": {
    "scrolled": true
   },
   "outputs": [
    {
     "name": "stdout",
     "output_type": "stream",
     "text": [
      "<class 'pandas.core.frame.DataFrame'>\n",
      "RangeIndex: 928991 entries, 0 to 928990\n",
      "Data columns (total 16 columns):\n",
      " #   Column            Non-Null Count   Dtype  \n",
      "---  ------            --------------   -----  \n",
      " 0   id                928991 non-null  int64  \n",
      " 1   time              928991 non-null  float64\n",
      " 2   r1                928991 non-null  float64\n",
      " 3   r2                928991 non-null  float64\n",
      " 4   r3                928991 non-null  float64\n",
      " 5   r4                928991 non-null  float64\n",
      " 6   r5                928991 non-null  float64\n",
      " 7   r6                928991 non-null  float64\n",
      " 8   r7                928991 non-null  float64\n",
      " 9   r8                928991 non-null  float64\n",
      " 10  temp              928991 non-null  float64\n",
      " 11  humidity          928991 non-null  float64\n",
      " 12  date              928991 non-null  object \n",
      " 13  class             928991 non-null  object \n",
      " 14  start_time_hours  928991 non-null  object \n",
      " 15  duration_hours    928991 non-null  object \n",
      "dtypes: float64(11), int64(1), object(4)\n",
      "memory usage: 113.4+ MB\n"
     ]
    }
   ],
   "source": [
    "joined_df = pd.merge(dataset, metadataset, left_on='id', right_on='id', how='inner')\n",
    "joined_df.info()\n"
   ]
  },
  {
   "cell_type": "code",
   "execution_count": 25,
   "id": "c7e4fbe6",
   "metadata": {},
   "outputs": [],
   "source": [
    "## Set all records with time less than 0 equal to a background class\n",
    "joined_df.loc[joined_df['time'] < 0, 'class'] = 'background'\n",
    "\n",
    "## For each grouping/chunk, the last hour of data is also background\n",
    "joined_df['duration_hours'] = joined_df['duration_hours'].astype(float)\n",
    "joined_df.loc[joined_df['time'] > joined_df['duration_hours'], 'class'] = 'background'\n"
   ]
  },
  {
   "cell_type": "code",
   "execution_count": 26,
   "id": "6d4cdc11",
   "metadata": {},
   "outputs": [],
   "source": [
    "X = []\n",
    "y = []\n",
    "## How many rows will be used for the prediction\n",
    "snippet_size = 120\n",
    "expected_rows_per_minute = 60\n",
    "expected_snippet_time_gap = 1.05 * snippet_size / expected_rows_per_minute / 60\n",
    "## How many rows will be skipped between each snippet\n",
    "gap_size = 12\n",
    "for start_index in range(0, len(joined_df) - snippet_size, gap_size):\n",
    "    end_index = start_index + snippet_size\n",
    "    ## Skip if the data spans across segments\n",
    "    if joined_df.iloc[end_index,0] != joined_df.iloc[start_index,0]:\n",
    "        continue\n",
    "    ## If the time difference from beginning to end is larger than expected\n",
    "    ## there must be some data missing or this chunk spans across tests\n",
    "    if joined_df.iloc[end_index,1] - joined_df.iloc[start_index,1] > expected_snippet_time_gap:\n",
    "        continue\n",
    "    snippet = joined_df.iloc[start_index:end_index, 2:11].values\n",
    "    X.append(snippet)\n",
    "    y.append(joined_df.iloc[end_index,13])\n",
    "    ## 5x SAMPLE ALL ACTIVE POINTS TO PROMOTE HIGHER ACCURACY\n",
    "    if joined_df.iloc[end_index,13] != \"background\":\n",
    "        X.append(snippet)\n",
    "        y.append(joined_df.iloc[end_index,13])\n",
    "        X.append(snippet)\n",
    "        y.append(joined_df.iloc[end_index,13])\n",
    "        X.append(snippet)\n",
    "        y.append(joined_df.iloc[end_index,13])\n",
    "        X.append(snippet)\n",
    "        y.append(joined_df.iloc[end_index,13])\n",
    "\n",
    "\n",
    "X = np.array(X)\n",
    "y = np.array(y)\n"
   ]
  },
  {
   "cell_type": "code",
   "execution_count": 20,
   "id": "8447c56a",
   "metadata": {},
   "outputs": [
    {
     "name": "stdout",
     "output_type": "stream",
     "text": [
      "(109330, 120, 10)\n",
      "['wine' 'wine' 'banana' ... 'background' 'background' 'banana']\n"
     ]
    }
   ],
   "source": [
    "from sklearn.model_selection import train_test_split\n",
    "X_train, X_test, y_train, y_test = train_test_split(X, y, test_size=0.2, random_state=0)\n",
    "\n",
    "print(X_train.shape)\n",
    "print(y_train)\n"
   ]
  },
  {
   "cell_type": "code",
   "execution_count": 23,
   "id": "f895666b",
   "metadata": {},
   "outputs": [
    {
     "name": "stderr",
     "output_type": "stream",
     "text": [
      "/Users/dapomeranz/.pyenv/versions/3.10.4/lib/python3.10/site-packages/sklearn/preprocessing/_encoders.py:972: FutureWarning: `sparse` was renamed to `sparse_output` in version 1.2 and will be removed in 1.4. `sparse_output` is ignored unless you leave `sparse` to its default value.\n",
      "  warnings.warn(\n"
     ]
    },
    {
     "name": "stdout",
     "output_type": "stream",
     "text": [
      "Model: \"model_2\"\n",
      "__________________________________________________________________________________________________\n",
      " Layer (type)                Output Shape                 Param #   Connected to                  \n",
      "==================================================================================================\n",
      " input_3 (InputLayer)        [(None, 10, 120)]            0         []                            \n",
      "                                                                                                  \n",
      " conv1d_6 (Conv1D)           (None, 10, 128)              123008    ['input_3[0][0]']             \n",
      "                                                                                                  \n",
      " batch_normalization_6 (Bat  (None, 10, 128)              512       ['conv1d_6[0][0]']            \n",
      " chNormalization)                                                                                 \n",
      "                                                                                                  \n",
      " activation_6 (Activation)   (None, 10, 128)              0         ['batch_normalization_6[0][0]'\n",
      "                                                                    ]                             \n",
      "                                                                                                  \n",
      " conv1d_7 (Conv1D)           (None, 10, 256)              164096    ['activation_6[0][0]']        \n",
      "                                                                                                  \n",
      " batch_normalization_7 (Bat  (None, 10, 256)              1024      ['conv1d_7[0][0]']            \n",
      " chNormalization)                                                                                 \n",
      "                                                                                                  \n",
      " activation_7 (Activation)   (None, 10, 256)              0         ['batch_normalization_7[0][0]'\n",
      "                                                                    ]                             \n",
      "                                                                                                  \n",
      " conv1d_8 (Conv1D)           (None, 10, 128)              98432     ['activation_7[0][0]']        \n",
      "                                                                                                  \n",
      " permute_2 (Permute)         (None, 120, 10)              0         ['input_3[0][0]']             \n",
      "                                                                                                  \n",
      " batch_normalization_8 (Bat  (None, 10, 128)              512       ['conv1d_8[0][0]']            \n",
      " chNormalization)                                                                                 \n",
      "                                                                                                  \n",
      " lstm_2 (LSTM)               (None, 8)                    608       ['permute_2[0][0]']           \n",
      "                                                                                                  \n",
      " activation_8 (Activation)   (None, 10, 128)              0         ['batch_normalization_8[0][0]'\n",
      "                                                                    ]                             \n",
      "                                                                                                  \n",
      " dropout_2 (Dropout)         (None, 8)                    0         ['lstm_2[0][0]']              \n",
      "                                                                                                  \n",
      " global_average_pooling1d_2  (None, 128)                  0         ['activation_8[0][0]']        \n",
      "  (GlobalAveragePooling1D)                                                                        \n",
      "                                                                                                  \n",
      " concatenate_2 (Concatenate  (None, 136)                  0         ['dropout_2[0][0]',           \n",
      " )                                                                   'global_average_pooling1d_2[0\n",
      "                                                                    ][0]']                        \n",
      "                                                                                                  \n",
      " dense_2 (Dense)             (None, 3)                    411       ['concatenate_2[0][0]']       \n",
      "                                                                                                  \n",
      "==================================================================================================\n",
      "Total params: 388603 (1.48 MB)\n",
      "Trainable params: 387579 (1.48 MB)\n",
      "Non-trainable params: 1024 (4.00 KB)\n",
      "__________________________________________________________________________________________________\n",
      "Epoch 1/100\n"
     ]
    },
    {
     "name": "stderr",
     "output_type": "stream",
     "text": [
      "2023-10-23 17:24:26.798785: I tensorflow/core/grappler/optimizers/custom_graph_optimizer_registry.cc:114] Plugin optimizer for device_type GPU is enabled.\n",
      "2023-10-23 17:24:27.372692: I tensorflow/core/grappler/optimizers/custom_graph_optimizer_registry.cc:114] Plugin optimizer for device_type GPU is enabled.\n",
      "2023-10-23 17:24:31.664944: I tensorflow/core/grappler/optimizers/custom_graph_optimizer_registry.cc:114] Plugin optimizer for device_type GPU is enabled.\n"
     ]
    },
    {
     "name": "stdout",
     "output_type": "stream",
     "text": [
      "855/855 [==============================] - 92s 96ms/step - loss: 0.6292 - accuracy: 0.7371\n",
      "Epoch 2/100\n",
      "855/855 [==============================] - 83s 97ms/step - loss: 0.4505 - accuracy: 0.8245\n",
      "Epoch 3/100\n",
      "855/855 [==============================] - 87s 102ms/step - loss: 0.3632 - accuracy: 0.8602\n",
      "Epoch 4/100\n",
      "855/855 [==============================] - 75s 88ms/step - loss: 0.3091 - accuracy: 0.8805\n",
      "Epoch 5/100\n",
      "855/855 [==============================] - 78s 92ms/step - loss: 0.2724 - accuracy: 0.8932\n",
      "Epoch 6/100\n",
      "855/855 [==============================] - 75s 88ms/step - loss: 0.2492 - accuracy: 0.9018\n",
      "Epoch 7/100\n",
      "855/855 [==============================] - 74s 86ms/step - loss: 0.2305 - accuracy: 0.9101\n",
      "Epoch 8/100\n",
      "855/855 [==============================] - 77s 90ms/step - loss: 0.2151 - accuracy: 0.9160\n",
      "Epoch 9/100\n",
      "855/855 [==============================] - 145s 169ms/step - loss: 0.2031 - accuracy: 0.9217\n",
      "Epoch 10/100\n",
      "855/855 [==============================] - 92s 107ms/step - loss: 0.1925 - accuracy: 0.9247\n",
      "Epoch 11/100\n",
      "855/855 [==============================] - 90s 105ms/step - loss: 0.1836 - accuracy: 0.9290\n",
      "Epoch 12/100\n",
      "855/855 [==============================] - 84s 99ms/step - loss: 0.1776 - accuracy: 0.9313\n",
      "Epoch 13/100\n",
      "855/855 [==============================] - 84s 98ms/step - loss: 0.1672 - accuracy: 0.9357\n",
      "Epoch 14/100\n",
      "855/855 [==============================] - 84s 98ms/step - loss: 0.1659 - accuracy: 0.9359\n",
      "Epoch 15/100\n",
      "855/855 [==============================] - 81s 95ms/step - loss: 0.1581 - accuracy: 0.9387\n",
      "Epoch 16/100\n",
      "855/855 [==============================] - 86s 100ms/step - loss: 0.1541 - accuracy: 0.9397\n",
      "Epoch 17/100\n",
      "855/855 [==============================] - 83s 97ms/step - loss: 0.1523 - accuracy: 0.9406\n",
      "Epoch 18/100\n",
      "855/855 [==============================] - 85s 99ms/step - loss: 0.1509 - accuracy: 0.9417\n",
      "Epoch 19/100\n",
      "855/855 [==============================] - 79s 93ms/step - loss: 0.1427 - accuracy: 0.9449\n",
      "Epoch 20/100\n",
      "855/855 [==============================] - 85s 100ms/step - loss: 0.1385 - accuracy: 0.9464\n",
      "Epoch 21/100\n",
      "855/855 [==============================] - 96s 112ms/step - loss: 0.1362 - accuracy: 0.9478\n",
      "Epoch 22/100\n",
      "855/855 [==============================] - 80s 93ms/step - loss: 0.1323 - accuracy: 0.9489\n",
      "Epoch 23/100\n",
      "855/855 [==============================] - 165s 193ms/step - loss: 0.1281 - accuracy: 0.9494\n",
      "Epoch 24/100\n",
      "855/855 [==============================] - 183s 214ms/step - loss: 0.1269 - accuracy: 0.9502\n",
      "Epoch 25/100\n",
      "855/855 [==============================] - 94s 110ms/step - loss: 0.1238 - accuracy: 0.9515\n",
      "Epoch 26/100\n",
      "855/855 [==============================] - 80s 94ms/step - loss: 0.1201 - accuracy: 0.9538\n",
      "Epoch 27/100\n",
      "855/855 [==============================] - 102s 119ms/step - loss: 0.1176 - accuracy: 0.9544\n",
      "Epoch 28/100\n",
      "855/855 [==============================] - 102s 120ms/step - loss: 0.1175 - accuracy: 0.9545\n",
      "Epoch 29/100\n",
      "855/855 [==============================] - 104s 122ms/step - loss: 0.1166 - accuracy: 0.9550\n",
      "Epoch 30/100\n",
      "855/855 [==============================] - 140s 164ms/step - loss: 0.1127 - accuracy: 0.9565\n",
      "Epoch 31/100\n",
      "855/855 [==============================] - 106s 124ms/step - loss: 0.1115 - accuracy: 0.9570\n",
      "Epoch 32/100\n",
      "855/855 [==============================] - 117s 136ms/step - loss: 0.1095 - accuracy: 0.9577\n",
      "Epoch 33/100\n",
      "855/855 [==============================] - 139s 163ms/step - loss: 0.1056 - accuracy: 0.9591\n",
      "Epoch 34/100\n",
      "855/855 [==============================] - 124s 145ms/step - loss: 0.1060 - accuracy: 0.9591\n",
      "Epoch 35/100\n",
      "855/855 [==============================] - 100s 117ms/step - loss: 0.1047 - accuracy: 0.9595\n",
      "Epoch 36/100\n",
      "855/855 [==============================] - 97s 113ms/step - loss: 0.1038 - accuracy: 0.9594\n",
      "Epoch 37/100\n",
      "855/855 [==============================] - 90s 106ms/step - loss: 0.1011 - accuracy: 0.9608\n",
      "Epoch 38/100\n",
      "855/855 [==============================] - 95s 111ms/step - loss: 0.1020 - accuracy: 0.9602\n",
      "Epoch 39/100\n",
      "855/855 [==============================] - 95s 111ms/step - loss: 0.0995 - accuracy: 0.9616\n",
      "Epoch 40/100\n",
      "855/855 [==============================] - 169s 198ms/step - loss: 0.0988 - accuracy: 0.9620\n",
      "Epoch 41/100\n",
      "855/855 [==============================] - 104s 121ms/step - loss: 0.0973 - accuracy: 0.9630\n",
      "Epoch 42/100\n",
      "855/855 [==============================] - 72s 84ms/step - loss: 0.0952 - accuracy: 0.9633\n",
      "Epoch 43/100\n",
      "855/855 [==============================] - 80s 93ms/step - loss: 0.0950 - accuracy: 0.9627\n",
      "Epoch 44/100\n",
      "855/855 [==============================] - 67s 78ms/step - loss: 0.0937 - accuracy: 0.9641\n",
      "Epoch 45/100\n",
      "855/855 [==============================] - 216s 253ms/step - loss: 0.0936 - accuracy: 0.9641\n",
      "Epoch 46/100\n",
      "855/855 [==============================] - 75s 88ms/step - loss: 0.0926 - accuracy: 0.9639\n",
      "Epoch 47/100\n",
      "855/855 [==============================] - 101s 119ms/step - loss: 0.0895 - accuracy: 0.9655\n",
      "Epoch 48/100\n",
      "855/855 [==============================] - 107s 125ms/step - loss: 0.0914 - accuracy: 0.9647\n",
      "Epoch 49/100\n",
      "855/855 [==============================] - 84s 98ms/step - loss: 0.0894 - accuracy: 0.9648\n",
      "Epoch 50/100\n",
      "855/855 [==============================] - 69s 81ms/step - loss: 0.0892 - accuracy: 0.9651\n",
      "Epoch 51/100\n",
      "855/855 [==============================] - 70s 82ms/step - loss: 0.0868 - accuracy: 0.9658\n",
      "Epoch 52/100\n",
      "855/855 [==============================] - 76s 89ms/step - loss: 0.0863 - accuracy: 0.9669\n",
      "Epoch 53/100\n",
      "855/855 [==============================] - 70s 82ms/step - loss: 0.0861 - accuracy: 0.9663\n",
      "Epoch 54/100\n",
      "855/855 [==============================] - 72s 84ms/step - loss: 0.0861 - accuracy: 0.9668\n",
      "Epoch 55/100\n",
      "855/855 [==============================] - 70s 82ms/step - loss: 0.0847 - accuracy: 0.9668\n",
      "Epoch 56/100\n",
      "855/855 [==============================] - 69s 81ms/step - loss: 0.0830 - accuracy: 0.9678\n",
      "Epoch 57/100\n",
      "855/855 [==============================] - 71s 83ms/step - loss: 0.0861 - accuracy: 0.9667\n",
      "Epoch 58/100\n",
      "855/855 [==============================] - 69s 81ms/step - loss: 0.0822 - accuracy: 0.9682\n",
      "Epoch 59/100\n",
      "855/855 [==============================] - 68s 80ms/step - loss: 0.0829 - accuracy: 0.9680\n",
      "Epoch 60/100\n",
      "855/855 [==============================] - 68s 79ms/step - loss: 0.0812 - accuracy: 0.9686\n",
      "Epoch 61/100\n",
      "855/855 [==============================] - 76s 89ms/step - loss: 0.0818 - accuracy: 0.9683\n",
      "Epoch 62/100\n",
      "855/855 [==============================] - 72s 84ms/step - loss: 0.0809 - accuracy: 0.9690\n",
      "Epoch 63/100\n",
      "855/855 [==============================] - 70s 82ms/step - loss: 0.0798 - accuracy: 0.9686\n",
      "Epoch 64/100\n",
      "855/855 [==============================] - 69s 80ms/step - loss: 0.0780 - accuracy: 0.9696\n",
      "Epoch 65/100\n",
      "855/855 [==============================] - 69s 81ms/step - loss: 0.0798 - accuracy: 0.9687\n",
      "Epoch 66/100\n",
      "855/855 [==============================] - 68s 79ms/step - loss: 0.0777 - accuracy: 0.9699\n",
      "Epoch 67/100\n",
      "855/855 [==============================] - 67s 78ms/step - loss: 0.0775 - accuracy: 0.9705\n",
      "Epoch 68/100\n",
      "855/855 [==============================] - 67s 79ms/step - loss: 0.0764 - accuracy: 0.9706\n",
      "Epoch 69/100\n",
      "855/855 [==============================] - 69s 80ms/step - loss: 0.0780 - accuracy: 0.9698\n",
      "Epoch 70/100\n",
      "855/855 [==============================] - 69s 80ms/step - loss: 0.0753 - accuracy: 0.9708\n",
      "Epoch 71/100\n",
      "855/855 [==============================] - 68s 80ms/step - loss: 0.0743 - accuracy: 0.9710\n",
      "Epoch 72/100\n",
      "855/855 [==============================] - 68s 79ms/step - loss: 0.0749 - accuracy: 0.9714\n",
      "Epoch 73/100\n",
      "855/855 [==============================] - 68s 79ms/step - loss: 0.0739 - accuracy: 0.9713\n",
      "Epoch 74/100\n",
      "855/855 [==============================] - 70s 82ms/step - loss: 0.0745 - accuracy: 0.9713\n",
      "Epoch 75/100\n",
      "855/855 [==============================] - 70s 81ms/step - loss: 0.0745 - accuracy: 0.9711\n",
      "Epoch 76/100\n",
      "855/855 [==============================] - 68s 79ms/step - loss: 0.0718 - accuracy: 0.9716\n",
      "Epoch 77/100\n",
      "855/855 [==============================] - 68s 79ms/step - loss: 0.0719 - accuracy: 0.9719\n",
      "Epoch 78/100\n",
      "855/855 [==============================] - 64s 74ms/step - loss: 0.0711 - accuracy: 0.9725\n",
      "Epoch 79/100\n"
     ]
    },
    {
     "name": "stdout",
     "output_type": "stream",
     "text": [
      "855/855 [==============================] - 63s 73ms/step - loss: 0.0708 - accuracy: 0.9726\n",
      "Epoch 80/100\n",
      "855/855 [==============================] - 63s 74ms/step - loss: 0.0719 - accuracy: 0.9724\n",
      "Epoch 81/100\n",
      "855/855 [==============================] - 62s 73ms/step - loss: 0.0702 - accuracy: 0.9727\n",
      "Epoch 82/100\n",
      "855/855 [==============================] - 62s 73ms/step - loss: 0.0694 - accuracy: 0.9729\n",
      "Epoch 83/100\n",
      "855/855 [==============================] - 63s 73ms/step - loss: 0.0707 - accuracy: 0.9729\n",
      "Epoch 84/100\n",
      "855/855 [==============================] - 62s 72ms/step - loss: 0.0685 - accuracy: 0.9734\n",
      "Epoch 85/100\n",
      "855/855 [==============================] - 63s 73ms/step - loss: 0.0687 - accuracy: 0.9735\n",
      "Epoch 86/100\n",
      "855/855 [==============================] - 63s 73ms/step - loss: 0.0689 - accuracy: 0.9734\n",
      "Epoch 87/100\n",
      "855/855 [==============================] - 63s 74ms/step - loss: 0.0666 - accuracy: 0.9742\n",
      "Epoch 88/100\n",
      "855/855 [==============================] - 63s 73ms/step - loss: 0.0678 - accuracy: 0.9735\n",
      "Epoch 89/100\n",
      "855/855 [==============================] - 65s 75ms/step - loss: 0.0664 - accuracy: 0.9741\n",
      "Epoch 90/100\n",
      "855/855 [==============================] - 63s 74ms/step - loss: 0.0670 - accuracy: 0.9741\n",
      "Epoch 91/100\n",
      "855/855 [==============================] - 63s 74ms/step - loss: 0.0659 - accuracy: 0.9746\n",
      "Epoch 92/100\n",
      "855/855 [==============================] - 62s 73ms/step - loss: 0.0654 - accuracy: 0.9748\n",
      "Epoch 93/100\n",
      "855/855 [==============================] - 63s 74ms/step - loss: 0.0689 - accuracy: 0.9739\n",
      "Epoch 94/100\n",
      "855/855 [==============================] - 63s 73ms/step - loss: 0.0671 - accuracy: 0.9741\n",
      "Epoch 95/100\n",
      "855/855 [==============================] - 63s 74ms/step - loss: 0.0655 - accuracy: 0.9749\n",
      "Epoch 96/100\n",
      "855/855 [==============================] - 62s 73ms/step - loss: 0.0650 - accuracy: 0.9749\n",
      "Epoch 97/100\n",
      "855/855 [==============================] - 63s 73ms/step - loss: 0.0642 - accuracy: 0.9751\n",
      "Epoch 98/100\n",
      "855/855 [==============================] - 62s 73ms/step - loss: 0.0628 - accuracy: 0.9754\n",
      "Epoch 99/100\n",
      "855/855 [==============================] - 64s 75ms/step - loss: 0.0653 - accuracy: 0.9743\n",
      "Epoch 100/100\n",
      "855/855 [==============================] - 63s 74ms/step - loss: 0.0637 - accuracy: 0.9753\n"
     ]
    },
    {
     "name": "stderr",
     "output_type": "stream",
     "text": [
      "2023-10-23 19:42:46.535968: I tensorflow/core/grappler/optimizers/custom_graph_optimizer_registry.cc:114] Plugin optimizer for device_type GPU is enabled.\n",
      "2023-10-23 19:42:46.872508: I tensorflow/core/grappler/optimizers/custom_graph_optimizer_registry.cc:114] Plugin optimizer for device_type GPU is enabled.\n"
     ]
    },
    {
     "name": "stdout",
     "output_type": "stream",
     "text": [
      "214/214 [==============================] - 6s 12ms/step\n",
      "0.973438700471957\n"
     ]
    }
   ],
   "source": [
    "from sklearn.metrics import classification_report\n",
    "\n",
    "from sktime.classification.deep_learning.lstmfcn import LSTMFCNClassifier\n",
    "\n",
    "model = LSTMFCNClassifier(n_epochs=100, verbose=1)\n",
    "model.fit(X_train, y_train)\n",
    "print(model.score(X_test, y_test))\n"
   ]
  },
  {
   "cell_type": "code",
   "execution_count": 24,
   "id": "9e6a0e38",
   "metadata": {},
   "outputs": [
    {
     "name": "stdout",
     "output_type": "stream",
     "text": [
      "INFO:tensorflow:Assets written to: trained_sktime_model/keras/assets\n"
     ]
    },
    {
     "name": "stderr",
     "output_type": "stream",
     "text": [
      "INFO:tensorflow:Assets written to: trained_sktime_model/keras/assets\n"
     ]
    },
    {
     "data": {
      "text/plain": [
       "<zipfile.ZipFile filename='trained_sktime_model.zip' mode='r'>"
      ]
     },
     "execution_count": 24,
     "metadata": {},
     "output_type": "execute_result"
    }
   ],
   "source": [
    "model.save(\"trained_sktime_model\")\n"
   ]
  },
  {
   "cell_type": "code",
   "execution_count": null,
   "id": "81645b42",
   "metadata": {},
   "outputs": [],
   "source": []
  }
 ],
 "metadata": {
  "kernelspec": {
   "display_name": "Python 3 (ipykernel)",
   "language": "python",
   "name": "python3"
  },
  "language_info": {
   "codemirror_mode": {
    "name": "ipython",
    "version": 3
   },
   "file_extension": ".py",
   "mimetype": "text/x-python",
   "name": "python",
   "nbconvert_exporter": "python",
   "pygments_lexer": "ipython3",
   "version": "3.10.4"
  }
 },
 "nbformat": 4,
 "nbformat_minor": 5
}
