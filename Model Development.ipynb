{
 "cells": [
  {
   "cell_type": "code",
   "execution_count": 9,
   "id": "42d7e542",
   "metadata": {},
   "outputs": [],
   "source": [
    "import pandas as pd\n",
    "import numpy as np"
   ]
  },
  {
   "cell_type": "markdown",
   "id": "ab43629f",
   "metadata": {},
   "source": [
    "# Load the two datasets into pandas dataframes"
   ]
  },
  {
   "cell_type": "code",
   "execution_count": 10,
   "id": "0a4693ef",
   "metadata": {},
   "outputs": [],
   "source": [
    "data = np.loadtxt(\"data/HT_Sensor_dataset.dat\", skiprows=1)\n",
    "columns = ['id', 'time', 'r1', 'r2', 'r3', 'r4', 'r5', 'r6', 'r7', 'r8', 'temp', 'humidity']\n",
    "dataset = pd.DataFrame(data, columns=columns)\n",
    "dataset['id'] = dataset['id'].astype(int)"
   ]
  },
  {
   "cell_type": "code",
   "execution_count": 11,
   "id": "1927e35e",
   "metadata": {},
   "outputs": [],
   "source": [
    "metadata = np.loadtxt(\"data/HT_Sensor_metadata.dat\", skiprows=1, dtype=str)\n",
    "metadata_columns = ['id', 'date', 'class', 'start_time_hours', 'duration_hours']\n",
    "metadataset = pd.DataFrame(metadata, columns=metadata_columns)\n",
    "metadataset['id'] = metadataset['id'].astype(int)"
   ]
  },
  {
   "cell_type": "markdown",
   "id": "a1571aa2",
   "metadata": {},
   "source": [
    "## Inner Join the tables to get our main dataset"
   ]
  },
  {
   "cell_type": "code",
   "execution_count": 12,
   "id": "2603cf82",
   "metadata": {
    "scrolled": true
   },
   "outputs": [
    {
     "name": "stdout",
     "output_type": "stream",
     "text": [
      "<class 'pandas.core.frame.DataFrame'>\n",
      "RangeIndex: 928991 entries, 0 to 928990\n",
      "Data columns (total 16 columns):\n",
      " #   Column            Non-Null Count   Dtype  \n",
      "---  ------            --------------   -----  \n",
      " 0   id                928991 non-null  int64  \n",
      " 1   time              928991 non-null  float64\n",
      " 2   r1                928991 non-null  float64\n",
      " 3   r2                928991 non-null  float64\n",
      " 4   r3                928991 non-null  float64\n",
      " 5   r4                928991 non-null  float64\n",
      " 6   r5                928991 non-null  float64\n",
      " 7   r6                928991 non-null  float64\n",
      " 8   r7                928991 non-null  float64\n",
      " 9   r8                928991 non-null  float64\n",
      " 10  temp              928991 non-null  float64\n",
      " 11  humidity          928991 non-null  float64\n",
      " 12  date              928991 non-null  object \n",
      " 13  class             928991 non-null  object \n",
      " 14  start_time_hours  928991 non-null  object \n",
      " 15  duration_hours    928991 non-null  object \n",
      "dtypes: float64(11), int64(1), object(4)\n",
      "memory usage: 113.4+ MB\n"
     ]
    }
   ],
   "source": [
    "joined_df = pd.merge(dataset, metadataset, left_on='id', right_on='id', how='inner')\n",
    "joined_df.info()"
   ]
  },
  {
   "cell_type": "code",
   "execution_count": 13,
   "id": "c7e4fbe6",
   "metadata": {},
   "outputs": [],
   "source": [
    "## Set all records with time less than 0 equal to a background class\n",
    "joined_df.loc[joined_df['time'] < 0, 'class'] = 'background'"
   ]
  },
  {
   "cell_type": "code",
   "execution_count": 14,
   "id": "6d4cdc11",
   "metadata": {},
   "outputs": [],
   "source": [
    "X = []\n",
    "y = []\n",
    "## How many rows will be used for the prediction\n",
    "snippet_size = 120\n",
    "expected_rows_per_minute = 60\n",
    "expected_snippet_time_gap = 1.05 * snippet_size / expected_rows_per_minute / 60\n",
    "## How many rows will be skipped between each snippet\n",
    "gap_size = 12\n",
    "for start_index in range(0, len(joined_df) - snippet_size, gap_size):\n",
    "    end_index = start_index + snippet_size\n",
    "    ## Skip if the data spans across segments\n",
    "    if joined_df.iloc[end_index,0] != joined_df.iloc[start_index,0]:\n",
    "        continue\n",
    "    ## Skip if the data spans across classes\n",
    "    if joined_df.iloc[end_index,13] != joined_df.iloc[start_index,13]:\n",
    "        continue\n",
    "    ## If the time difference from beginning to end is larger than expected\n",
    "    ## there must be some data missing or this chunk spans across tests\n",
    "    if joined_df.iloc[end_index,1] - joined_df.iloc[start_index,1] > expected_snippet_time_gap:\n",
    "        continue\n",
    "    snippet = joined_df.iloc[start_index:end_index, 2:12].values\n",
    "    X.append(snippet)\n",
    "    y.append(joined_df.iloc[end_index,13])\n",
    "    ## TRIPLE SAMPLE ALL ACTIVE POINTS TO PROMOTE HIGHER ACCURACY\n",
    "    if joined_df.iloc[end_index,13] != \"background\":\n",
    "        X.append(snippet)\n",
    "        y.append(joined_df.iloc[end_index,13])\n",
    "        X.append(snippet)\n",
    "        y.append(joined_df.iloc[end_index,13])\n",
    "        \n",
    "\n",
    "X = np.array(X)\n",
    "y = np.array(y)\n"
   ]
  },
  {
   "cell_type": "code",
   "execution_count": 15,
   "id": "8447c56a",
   "metadata": {},
   "outputs": [
    {
     "name": "stdout",
     "output_type": "stream",
     "text": [
      "(113840, 120, 10)\n",
      "['wine' 'banana' 'wine' ... 'banana' 'wine' 'wine']\n"
     ]
    }
   ],
   "source": [
    "from sklearn.model_selection import train_test_split\n",
    "X_train, X_test, y_train, y_test = train_test_split(X, y, test_size=0.2, random_state=0)\n",
    "\n",
    "print(X_train.shape)\n",
    "print(y_train)"
   ]
  },
  {
   "cell_type": "code",
   "execution_count": 17,
   "id": "f895666b",
   "metadata": {},
   "outputs": [
    {
     "name": "stderr",
     "output_type": "stream",
     "text": [
      "/Users/dapomeranz/.pyenv/versions/3.10.4/lib/python3.10/site-packages/sklearn/preprocessing/_encoders.py:972: FutureWarning: `sparse` was renamed to `sparse_output` in version 1.2 and will be removed in 1.4. `sparse_output` is ignored unless you leave `sparse` to its default value.\n",
      "  warnings.warn(\n",
      "2023-10-22 15:08:20.487531: I metal_plugin/src/device/metal_device.cc:1154] Metal device set to: Apple M1\n",
      "2023-10-22 15:08:20.487560: I metal_plugin/src/device/metal_device.cc:296] systemMemory: 8.00 GB\n",
      "2023-10-22 15:08:20.487565: I metal_plugin/src/device/metal_device.cc:313] maxCacheSize: 2.67 GB\n",
      "2023-10-22 15:08:20.487967: I tensorflow/core/common_runtime/pluggable_device/pluggable_device_factory.cc:303] Could not identify NUMA node of platform GPU ID 0, defaulting to 0. Your kernel may not have been built with NUMA support.\n",
      "2023-10-22 15:08:20.488309: I tensorflow/core/common_runtime/pluggable_device/pluggable_device_factory.cc:269] Created TensorFlow device (/job:localhost/replica:0/task:0/device:GPU:0 with 0 MB memory) -> physical PluggableDevice (device: 0, name: METAL, pci bus id: <undefined>)\n"
     ]
    },
    {
     "name": "stdout",
     "output_type": "stream",
     "text": [
      "Model: \"model\"\n",
      "__________________________________________________________________________________________________\n",
      " Layer (type)                Output Shape                 Param #   Connected to                  \n",
      "==================================================================================================\n",
      " input_1 (InputLayer)        [(None, 10, 120)]            0         []                            \n",
      "                                                                                                  \n",
      " conv1d (Conv1D)             (None, 10, 128)              123008    ['input_1[0][0]']             \n",
      "                                                                                                  \n",
      " batch_normalization (Batch  (None, 10, 128)              512       ['conv1d[0][0]']              \n",
      " Normalization)                                                                                   \n",
      "                                                                                                  \n",
      " activation (Activation)     (None, 10, 128)              0         ['batch_normalization[0][0]'] \n",
      "                                                                                                  \n",
      " conv1d_1 (Conv1D)           (None, 10, 256)              164096    ['activation[0][0]']          \n",
      "                                                                                                  \n",
      " batch_normalization_1 (Bat  (None, 10, 256)              1024      ['conv1d_1[0][0]']            \n",
      " chNormalization)                                                                                 \n",
      "                                                                                                  \n",
      " activation_1 (Activation)   (None, 10, 256)              0         ['batch_normalization_1[0][0]'\n",
      "                                                                    ]                             \n",
      "                                                                                                  \n",
      " conv1d_2 (Conv1D)           (None, 10, 128)              98432     ['activation_1[0][0]']        \n",
      "                                                                                                  \n",
      " permute (Permute)           (None, 120, 10)              0         ['input_1[0][0]']             \n",
      "                                                                                                  \n",
      " batch_normalization_2 (Bat  (None, 10, 128)              512       ['conv1d_2[0][0]']            \n",
      " chNormalization)                                                                                 \n",
      "                                                                                                  \n",
      " lstm (LSTM)                 (None, 8)                    608       ['permute[0][0]']             \n",
      "                                                                                                  \n",
      " activation_2 (Activation)   (None, 10, 128)              0         ['batch_normalization_2[0][0]'\n",
      "                                                                    ]                             \n",
      "                                                                                                  \n",
      " dropout (Dropout)           (None, 8)                    0         ['lstm[0][0]']                \n",
      "                                                                                                  \n",
      " global_average_pooling1d (  (None, 128)                  0         ['activation_2[0][0]']        \n",
      " GlobalAveragePooling1D)                                                                          \n",
      "                                                                                                  \n",
      " concatenate (Concatenate)   (None, 136)                  0         ['dropout[0][0]',             \n",
      "                                                                     'global_average_pooling1d[0][\n",
      "                                                                    0]']                          \n",
      "                                                                                                  \n",
      " dense (Dense)               (None, 3)                    411       ['concatenate[0][0]']         \n",
      "                                                                                                  \n",
      "==================================================================================================\n",
      "Total params: 388603 (1.48 MB)\n",
      "Trainable params: 387579 (1.48 MB)\n",
      "Non-trainable params: 1024 (4.00 KB)\n",
      "__________________________________________________________________________________________________\n",
      "Epoch 1/100\n"
     ]
    },
    {
     "name": "stderr",
     "output_type": "stream",
     "text": [
      "2023-10-22 15:08:24.182291: I tensorflow/core/grappler/optimizers/custom_graph_optimizer_registry.cc:114] Plugin optimizer for device_type GPU is enabled.\n",
      "2023-10-22 15:08:24.609221: I tensorflow/core/grappler/optimizers/custom_graph_optimizer_registry.cc:114] Plugin optimizer for device_type GPU is enabled.\n",
      "2023-10-22 15:08:29.040750: I tensorflow/core/grappler/optimizers/custom_graph_optimizer_registry.cc:114] Plugin optimizer for device_type GPU is enabled.\n"
     ]
    },
    {
     "name": "stdout",
     "output_type": "stream",
     "text": [
      "890/890 [==============================] - 76s 74ms/step - loss: 0.6984 - accuracy: 0.7107\n",
      "Epoch 2/100\n",
      "890/890 [==============================] - 62s 70ms/step - loss: 0.4790 - accuracy: 0.8135\n",
      "Epoch 3/100\n",
      "890/890 [==============================] - 62s 70ms/step - loss: 0.3564 - accuracy: 0.8667\n",
      "Epoch 4/100\n",
      "890/890 [==============================] - 63s 71ms/step - loss: 0.2915 - accuracy: 0.8924\n",
      "Epoch 5/100\n",
      "890/890 [==============================] - 68s 76ms/step - loss: 0.2563 - accuracy: 0.9046\n",
      "Epoch 6/100\n",
      "890/890 [==============================] - 67s 75ms/step - loss: 0.2234 - accuracy: 0.9171\n",
      "Epoch 7/100\n",
      "890/890 [==============================] - 63s 71ms/step - loss: 0.2048 - accuracy: 0.9236\n",
      "Epoch 8/100\n",
      "890/890 [==============================] - 63s 71ms/step - loss: 0.1914 - accuracy: 0.9285\n",
      "Epoch 9/100\n",
      "890/890 [==============================] - 67s 75ms/step - loss: 0.1751 - accuracy: 0.9346\n",
      "Epoch 10/100\n",
      "890/890 [==============================] - 67s 76ms/step - loss: 0.1696 - accuracy: 0.9371\n",
      "Epoch 11/100\n",
      "890/890 [==============================] - 64s 72ms/step - loss: 0.1606 - accuracy: 0.9397\n",
      "Epoch 12/100\n",
      "890/890 [==============================] - 64s 72ms/step - loss: 0.1519 - accuracy: 0.9423\n",
      "Epoch 13/100\n",
      "890/890 [==============================] - 63s 71ms/step - loss: 0.1434 - accuracy: 0.9459\n",
      "Epoch 14/100\n",
      "890/890 [==============================] - 64s 72ms/step - loss: 0.1397 - accuracy: 0.9480\n",
      "Epoch 15/100\n",
      "890/890 [==============================] - 63s 71ms/step - loss: 0.1374 - accuracy: 0.9480\n",
      "Epoch 16/100\n",
      "890/890 [==============================] - 71s 79ms/step - loss: 0.1289 - accuracy: 0.9512\n",
      "Epoch 17/100\n",
      "890/890 [==============================] - 73s 82ms/step - loss: 0.1270 - accuracy: 0.9515\n",
      "Epoch 18/100\n",
      "890/890 [==============================] - 70s 78ms/step - loss: 0.1221 - accuracy: 0.9532\n",
      "Epoch 19/100\n",
      "890/890 [==============================] - 73s 82ms/step - loss: 0.1215 - accuracy: 0.9532\n",
      "Epoch 20/100\n",
      "890/890 [==============================] - 67s 75ms/step - loss: 0.1155 - accuracy: 0.9559\n",
      "Epoch 21/100\n",
      "890/890 [==============================] - 67s 75ms/step - loss: 0.1153 - accuracy: 0.9558\n",
      "Epoch 22/100\n",
      "890/890 [==============================] - 65s 73ms/step - loss: 0.1092 - accuracy: 0.9582\n",
      "Epoch 23/100\n",
      "890/890 [==============================] - 63s 71ms/step - loss: 0.1073 - accuracy: 0.9590\n",
      "Epoch 24/100\n",
      "890/890 [==============================] - 60s 68ms/step - loss: 0.1065 - accuracy: 0.9596\n",
      "Epoch 25/100\n",
      "890/890 [==============================] - 62s 69ms/step - loss: 0.1028 - accuracy: 0.9610\n",
      "Epoch 26/100\n",
      "890/890 [==============================] - 65s 73ms/step - loss: 0.1027 - accuracy: 0.9601\n",
      "Epoch 27/100\n",
      "890/890 [==============================] - 63s 70ms/step - loss: 0.0987 - accuracy: 0.9615\n",
      "Epoch 28/100\n",
      "890/890 [==============================] - 67s 75ms/step - loss: 0.0981 - accuracy: 0.9625\n",
      "Epoch 29/100\n",
      "890/890 [==============================] - 66s 74ms/step - loss: 0.0963 - accuracy: 0.9634\n",
      "Epoch 30/100\n",
      "890/890 [==============================] - 65s 73ms/step - loss: 0.0965 - accuracy: 0.9630\n",
      "Epoch 31/100\n",
      "890/890 [==============================] - 65s 73ms/step - loss: 0.0930 - accuracy: 0.9640\n",
      "Epoch 32/100\n",
      "890/890 [==============================] - 66s 75ms/step - loss: 0.0949 - accuracy: 0.9635\n",
      "Epoch 33/100\n",
      "890/890 [==============================] - 67s 75ms/step - loss: 0.0919 - accuracy: 0.9650\n",
      "Epoch 34/100\n",
      "890/890 [==============================] - 68s 76ms/step - loss: 0.0895 - accuracy: 0.9650\n",
      "Epoch 35/100\n",
      "890/890 [==============================] - 66s 74ms/step - loss: 0.0878 - accuracy: 0.9660\n",
      "Epoch 36/100\n",
      "890/890 [==============================] - 64s 72ms/step - loss: 0.0878 - accuracy: 0.9657\n",
      "Epoch 37/100\n",
      "890/890 [==============================] - 67s 75ms/step - loss: 0.0869 - accuracy: 0.9666\n",
      "Epoch 38/100\n",
      "890/890 [==============================] - 67s 75ms/step - loss: 0.0850 - accuracy: 0.9672\n",
      "Epoch 39/100\n",
      "890/890 [==============================] - 67s 75ms/step - loss: 0.0864 - accuracy: 0.9667\n",
      "Epoch 40/100\n",
      "890/890 [==============================] - 66s 74ms/step - loss: 0.0829 - accuracy: 0.9679\n",
      "Epoch 41/100\n",
      "890/890 [==============================] - 66s 74ms/step - loss: 0.0836 - accuracy: 0.9674\n",
      "Epoch 42/100\n",
      "890/890 [==============================] - 66s 74ms/step - loss: 0.0818 - accuracy: 0.9684\n",
      "Epoch 43/100\n",
      "890/890 [==============================] - 67s 75ms/step - loss: 0.0807 - accuracy: 0.9685\n",
      "Epoch 44/100\n",
      "890/890 [==============================] - 66s 74ms/step - loss: 0.0781 - accuracy: 0.9699\n",
      "Epoch 45/100\n",
      "890/890 [==============================] - 66s 74ms/step - loss: 0.0799 - accuracy: 0.9691\n",
      "Epoch 46/100\n",
      "890/890 [==============================] - 65s 73ms/step - loss: 0.0806 - accuracy: 0.9686\n",
      "Epoch 47/100\n",
      "890/890 [==============================] - 65s 73ms/step - loss: 0.0804 - accuracy: 0.9692\n",
      "Epoch 48/100\n",
      "890/890 [==============================] - 70s 78ms/step - loss: 0.0777 - accuracy: 0.9701\n",
      "Epoch 49/100\n",
      "890/890 [==============================] - 65s 73ms/step - loss: 0.0766 - accuracy: 0.9704\n",
      "Epoch 50/100\n",
      "890/890 [==============================] - 63s 71ms/step - loss: 0.0771 - accuracy: 0.9696\n",
      "Epoch 51/100\n",
      "890/890 [==============================] - 65s 73ms/step - loss: 0.0770 - accuracy: 0.9698\n",
      "Epoch 52/100\n",
      "890/890 [==============================] - 71s 80ms/step - loss: 0.0749 - accuracy: 0.9704\n",
      "Epoch 53/100\n",
      "890/890 [==============================] - 64s 72ms/step - loss: 0.0741 - accuracy: 0.9709\n",
      "Epoch 54/100\n",
      "890/890 [==============================] - 64s 72ms/step - loss: 0.0758 - accuracy: 0.9699\n",
      "Epoch 55/100\n",
      "890/890 [==============================] - 66s 74ms/step - loss: 0.0743 - accuracy: 0.9708\n",
      "Epoch 56/100\n",
      "890/890 [==============================] - 70s 79ms/step - loss: 0.0736 - accuracy: 0.9710\n",
      "Epoch 57/100\n",
      "890/890 [==============================] - 71s 80ms/step - loss: 0.0714 - accuracy: 0.9720\n",
      "Epoch 58/100\n",
      "890/890 [==============================] - 64s 72ms/step - loss: 0.0718 - accuracy: 0.9715\n",
      "Epoch 59/100\n",
      "890/890 [==============================] - 64s 72ms/step - loss: 0.0724 - accuracy: 0.9711\n",
      "Epoch 60/100\n",
      "890/890 [==============================] - 64s 72ms/step - loss: 0.0720 - accuracy: 0.9716\n",
      "Epoch 61/100\n",
      "890/890 [==============================] - 66s 74ms/step - loss: 0.0706 - accuracy: 0.9719\n",
      "Epoch 62/100\n",
      "890/890 [==============================] - 71s 80ms/step - loss: 0.0702 - accuracy: 0.9724\n",
      "Epoch 63/100\n",
      "890/890 [==============================] - 76s 86ms/step - loss: 0.0701 - accuracy: 0.9723\n",
      "Epoch 64/100\n",
      "890/890 [==============================] - 70s 79ms/step - loss: 0.0680 - accuracy: 0.9726\n",
      "Epoch 65/100\n",
      "890/890 [==============================] - 72s 81ms/step - loss: 0.0691 - accuracy: 0.9722\n",
      "Epoch 66/100\n",
      "890/890 [==============================] - 72s 81ms/step - loss: 0.0672 - accuracy: 0.9730\n",
      "Epoch 67/100\n",
      "890/890 [==============================] - 70s 79ms/step - loss: 0.0678 - accuracy: 0.9732\n",
      "Epoch 68/100\n",
      "890/890 [==============================] - 68s 77ms/step - loss: 0.0683 - accuracy: 0.9732\n",
      "Epoch 69/100\n",
      "890/890 [==============================] - 68s 77ms/step - loss: 0.0669 - accuracy: 0.9731\n",
      "Epoch 70/100\n",
      "890/890 [==============================] - 73s 82ms/step - loss: 0.0672 - accuracy: 0.9739\n",
      "Epoch 71/100\n",
      "890/890 [==============================] - 67s 76ms/step - loss: 0.0657 - accuracy: 0.9731\n",
      "Epoch 72/100\n",
      "890/890 [==============================] - 67s 75ms/step - loss: 0.0666 - accuracy: 0.9738\n",
      "Epoch 73/100\n",
      "890/890 [==============================] - 67s 76ms/step - loss: 0.0666 - accuracy: 0.9733\n",
      "Epoch 74/100\n",
      "890/890 [==============================] - 64s 72ms/step - loss: 0.0657 - accuracy: 0.9738\n",
      "Epoch 75/100\n",
      "890/890 [==============================] - 65s 73ms/step - loss: 0.0658 - accuracy: 0.9734\n",
      "Epoch 76/100\n",
      "890/890 [==============================] - 63s 70ms/step - loss: 0.0648 - accuracy: 0.9742\n",
      "Epoch 77/100\n",
      "890/890 [==============================] - 62s 70ms/step - loss: 0.0654 - accuracy: 0.9739\n",
      "Epoch 78/100\n",
      "890/890 [==============================] - 62s 69ms/step - loss: 0.0639 - accuracy: 0.9744\n",
      "Epoch 79/100\n",
      "890/890 [==============================] - 62s 70ms/step - loss: 0.0632 - accuracy: 0.9749\n"
     ]
    },
    {
     "name": "stdout",
     "output_type": "stream",
     "text": [
      "Epoch 80/100\n",
      "890/890 [==============================] - 62s 70ms/step - loss: 0.0651 - accuracy: 0.9737\n",
      "Epoch 81/100\n",
      "890/890 [==============================] - 62s 70ms/step - loss: 0.0641 - accuracy: 0.9740\n",
      "Epoch 82/100\n",
      "890/890 [==============================] - 63s 70ms/step - loss: 0.0621 - accuracy: 0.9752\n",
      "Epoch 83/100\n",
      "890/890 [==============================] - 63s 70ms/step - loss: 0.0628 - accuracy: 0.9751\n",
      "Epoch 84/100\n",
      "890/890 [==============================] - 63s 71ms/step - loss: 0.0629 - accuracy: 0.9749\n",
      "Epoch 85/100\n",
      "890/890 [==============================] - 62s 70ms/step - loss: 0.0632 - accuracy: 0.9746\n",
      "Epoch 86/100\n",
      "890/890 [==============================] - 64s 72ms/step - loss: 0.0616 - accuracy: 0.9757\n",
      "Epoch 87/100\n",
      "890/890 [==============================] - 64s 72ms/step - loss: 0.0624 - accuracy: 0.9753\n",
      "Epoch 88/100\n",
      "890/890 [==============================] - 63s 71ms/step - loss: 0.0624 - accuracy: 0.9748\n",
      "Epoch 89/100\n",
      "890/890 [==============================] - 65s 73ms/step - loss: 0.0603 - accuracy: 0.9757\n",
      "Epoch 90/100\n",
      "890/890 [==============================] - 71s 80ms/step - loss: 0.0616 - accuracy: 0.9749\n",
      "Epoch 91/100\n",
      "890/890 [==============================] - 70s 78ms/step - loss: 0.0611 - accuracy: 0.9755\n",
      "Epoch 92/100\n",
      "890/890 [==============================] - 65s 73ms/step - loss: 0.0605 - accuracy: 0.9754\n",
      "Epoch 93/100\n",
      "890/890 [==============================] - 65s 73ms/step - loss: 0.0617 - accuracy: 0.9754\n",
      "Epoch 94/100\n",
      "890/890 [==============================] - 66s 74ms/step - loss: 0.0597 - accuracy: 0.9757\n",
      "Epoch 95/100\n",
      "890/890 [==============================] - 66s 74ms/step - loss: 0.0601 - accuracy: 0.9757\n",
      "Epoch 96/100\n",
      "890/890 [==============================] - 68s 76ms/step - loss: 0.0592 - accuracy: 0.9759\n",
      "Epoch 97/100\n",
      "890/890 [==============================] - 67s 75ms/step - loss: 0.0590 - accuracy: 0.9762\n",
      "Epoch 98/100\n",
      "890/890 [==============================] - 65s 73ms/step - loss: 0.0601 - accuracy: 0.9761\n",
      "Epoch 99/100\n",
      "890/890 [==============================] - 68s 77ms/step - loss: 0.0592 - accuracy: 0.9759\n",
      "Epoch 100/100\n",
      "890/890 [==============================] - 66s 74ms/step - loss: 0.0590 - accuracy: 0.9759\n"
     ]
    },
    {
     "name": "stderr",
     "output_type": "stream",
     "text": [
      "2023-10-22 16:58:39.026818: I tensorflow/core/grappler/optimizers/custom_graph_optimizer_registry.cc:114] Plugin optimizer for device_type GPU is enabled.\n",
      "2023-10-22 16:58:39.302686: I tensorflow/core/grappler/optimizers/custom_graph_optimizer_registry.cc:114] Plugin optimizer for device_type GPU is enabled.\n"
     ]
    },
    {
     "name": "stdout",
     "output_type": "stream",
     "text": [
      "223/223 [==============================] - 5s 11ms/step\n",
      "0.9709065354884048\n"
     ]
    }
   ],
   "source": [
    "from sklearn.metrics import classification_report\n",
    "\n",
    "from sktime.classification.deep_learning.lstmfcn import LSTMFCNClassifier\n",
    "\n",
    "model = LSTMFCNClassifier(n_epochs=100, verbose=1)\n",
    "model.fit(X_train, y_train)\n",
    "print(model.score(X_test, y_test))"
   ]
  },
  {
   "cell_type": "code",
   "execution_count": 18,
   "id": "9e6a0e38",
   "metadata": {},
   "outputs": [
    {
     "name": "stdout",
     "output_type": "stream",
     "text": [
      "INFO:tensorflow:Assets written to: trained_sktime_model/keras/assets\n"
     ]
    },
    {
     "name": "stderr",
     "output_type": "stream",
     "text": [
      "INFO:tensorflow:Assets written to: trained_sktime_model/keras/assets\n"
     ]
    },
    {
     "data": {
      "text/plain": [
       "<zipfile.ZipFile filename='trained_sktime_model.zip' mode='r'>"
      ]
     },
     "execution_count": 18,
     "metadata": {},
     "output_type": "execute_result"
    }
   ],
   "source": [
    "model.save(\"trained_sktime_model\")"
   ]
  }
 ],
 "metadata": {
  "kernelspec": {
   "display_name": "Python 3 (ipykernel)",
   "language": "python",
   "name": "python3"
  },
  "language_info": {
   "codemirror_mode": {
    "name": "ipython",
    "version": 3
   },
   "file_extension": ".py",
   "mimetype": "text/x-python",
   "name": "python",
   "nbconvert_exporter": "python",
   "pygments_lexer": "ipython3",
   "version": "3.10.4"
  }
 },
 "nbformat": 4,
 "nbformat_minor": 5
}
