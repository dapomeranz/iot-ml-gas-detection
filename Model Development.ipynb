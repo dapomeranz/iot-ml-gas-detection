{
 "cells": [
  {
   "cell_type": "code",
   "execution_count": 41,
   "id": "42d7e542",
   "metadata": {},
   "outputs": [],
   "source": [
    "import pandas as pd\n",
    "import numpy as np"
   ]
  },
  {
   "cell_type": "markdown",
   "id": "ab43629f",
   "metadata": {},
   "source": [
    "# Load the two datasets into pandas dataframes"
   ]
  },
  {
   "cell_type": "code",
   "execution_count": 42,
   "id": "0a4693ef",
   "metadata": {},
   "outputs": [],
   "source": [
    "## Loading the dataset\n",
    "data = np.loadtxt(\"data/HT_Sensor_dataset.dat\", skiprows=1)\n",
    "\n",
    "dataset = pd.DataFrame(\n",
    "    {'id': data[:, 0],\n",
    "     'time': data[:, 1],\n",
    "     'r1': data[:, 2],\n",
    "     'r2': data[:, 3],\n",
    "     'r3': data[:, 4],\n",
    "     'r4': data[:, 5],\n",
    "     'r5': data[:, 6],\n",
    "     'r6': data[:, 7],\n",
    "     'r7': data[:, 8],\n",
    "     'r8': data[:, 9],\n",
    "     'temp': data[:, 10],\n",
    "     'humidity': data[:, 11]\n",
    "    })\n",
    "dataset['id'] = dataset['id'].astype(int)"
   ]
  },
  {
   "cell_type": "code",
   "execution_count": 43,
   "id": "1927e35e",
   "metadata": {},
   "outputs": [],
   "source": [
    "## Importing dataset\n",
    "metadata = np.loadtxt(\"data/HT_Sensor_metadata.dat\", skiprows=1, dtype=str)\n",
    "\n",
    "metadataset = pd.DataFrame(\n",
    "    {'id': metadata[:, 0],\n",
    "     'date': metadata[:, 1],\n",
    "     'class': metadata[:, 2],\n",
    "     'start_time_hours': metadata[:, 3],\n",
    "     'duration_hours': metadata[:, 4]\n",
    "    })\n",
    "metadataset['id'] = metadataset['id'].astype(int)\n",
    "\n",
    "#Apparently no data\n",
    "metadataset = metadataset[metadataset['id'] != 95]"
   ]
  },
  {
   "cell_type": "code",
   "execution_count": 44,
   "id": "2603cf82",
   "metadata": {
    "scrolled": true
   },
   "outputs": [
    {
     "name": "stdout",
     "output_type": "stream",
     "text": [
      "<class 'pandas.core.frame.DataFrame'>\n",
      "RangeIndex: 928991 entries, 0 to 928990\n",
      "Data columns (total 16 columns):\n",
      " #   Column            Non-Null Count   Dtype  \n",
      "---  ------            --------------   -----  \n",
      " 0   id                928991 non-null  int64  \n",
      " 1   time              928991 non-null  float64\n",
      " 2   r1                928991 non-null  float64\n",
      " 3   r2                928991 non-null  float64\n",
      " 4   r3                928991 non-null  float64\n",
      " 5   r4                928991 non-null  float64\n",
      " 6   r5                928991 non-null  float64\n",
      " 7   r6                928991 non-null  float64\n",
      " 8   r7                928991 non-null  float64\n",
      " 9   r8                928991 non-null  float64\n",
      " 10  temp              928991 non-null  float64\n",
      " 11  humidity          928991 non-null  float64\n",
      " 12  date              928991 non-null  object \n",
      " 13  class             928991 non-null  object \n",
      " 14  start_time_hours  928991 non-null  object \n",
      " 15  duration_hours    928991 non-null  object \n",
      "dtypes: float64(11), int64(1), object(4)\n",
      "memory usage: 113.4+ MB\n"
     ]
    }
   ],
   "source": [
    "joined_df = pd.merge(dataset, metadataset, left_on='id', right_on='id', how='inner')\n",
    "joined_df.info()"
   ]
  },
  {
   "cell_type": "code",
   "execution_count": 45,
   "id": "56d76d96",
   "metadata": {},
   "outputs": [],
   "source": [
    "def change_class(row):\n",
    "    if row['time'] < 0:\n",
    "        return 'background'\n",
    "    else:\n",
    "        return row['class']\n",
    "\n",
    "joined_df['class'] = joined_df.apply(change_class, axis=1)\n",
    "joined_df.head()"
   ]
  },
  {
   "cell_type": "code",
   "execution_count": 46,
   "id": "6d4cdc11",
   "metadata": {},
   "outputs": [],
   "source": [
    "X = []\n",
    "y = []\n",
    "## How many rows will be used for the prediction\n",
    "snippet_size = 120\n",
    "expected_rows_per_minute = 60\n",
    "expected_snippet_time_gap = 1.05 * snippet_size / expected_rows_per_minute / 60\n",
    "## How many rows will be skipped between each snippet\n",
    "gap_size = 12\n",
    "for start_index in range(0, len(joined_df) - snippet_size, gap_size):\n",
    "    end_index = start_index + snippet_size\n",
    "    ## Skip if the data spans across segments\n",
    "    if joined_df.iloc[end_index,0] != joined_df.iloc[start_index,0]:\n",
    "        continue\n",
    "    ## If the time difference from beginning to end is larger than expected\n",
    "    ## there must be some data missing or this chunk spans across tests\n",
    "    if joined_df.iloc[end_index,1] - joined_df.iloc[start_index,1] > expected_snippet_time_gap:\n",
    "        continue\n",
    "    snippet = joined_df.iloc[start_index:end_index, 2:12].values\n",
    "    X.append(snippet)\n",
    "    y.append(joined_df.iloc[end_index,13])\n",
    "    \n",
    "X = np.array(X)\n",
    "y = np.array(y)"
   ]
  },
  {
   "cell_type": "code",
   "execution_count": 47,
   "id": "8447c56a",
   "metadata": {},
   "outputs": [
    {
     "name": "stdout",
     "output_type": "stream",
     "text": [
      "(37909, 120, 10)\n",
      "['wine' 'wine' 'banana' ... 'background' 'background' 'banana']\n"
     ]
    }
   ],
   "source": [
    "from sklearn.model_selection import train_test_split\n",
    "X_train, X_test, y_train, y_test = train_test_split(X, y, test_size=0.2, random_state=0)\n",
    "\n",
    "## Remove rows from X_train and y_train where the second column is less than 0\n",
    "## This is to remove the background data which was tilting the model to over prioritize background data\n",
    "y_train = y_train[X_train[:,:,0] >= 0]\n",
    "X_train = X_train[X_train[:,:,0] >= 0]\n",
    "\n",
    "print(X_train.shape)\n",
    "print(y_train)"
   ]
  },
  {
   "cell_type": "code",
   "execution_count": 48,
   "id": "f895666b",
   "metadata": {},
   "outputs": [
    {
     "name": "stderr",
     "output_type": "stream",
     "text": [
      "/Users/dapomeranz/.pyenv/versions/3.10.4/lib/python3.10/site-packages/sklearn/preprocessing/_encoders.py:972: FutureWarning: `sparse` was renamed to `sparse_output` in version 1.2 and will be removed in 1.4. `sparse_output` is ignored unless you leave `sparse` to its default value.\n",
      "  warnings.warn(\n"
     ]
    },
    {
     "name": "stdout",
     "output_type": "stream",
     "text": [
      "Model: \"model_4\"\n",
      "__________________________________________________________________________________________________\n",
      " Layer (type)                Output Shape                 Param #   Connected to                  \n",
      "==================================================================================================\n",
      " input_5 (InputLayer)        [(None, 10, 120)]            0         []                            \n",
      "                                                                                                  \n",
      " conv1d_11 (Conv1D)          (None, 10, 128)              123008    ['input_5[0][0]']             \n",
      "                                                                                                  \n",
      " batch_normalization_9 (Bat  (None, 10, 128)              512       ['conv1d_11[0][0]']           \n",
      " chNormalization)                                                                                 \n",
      "                                                                                                  \n",
      " activation_9 (Activation)   (None, 10, 128)              0         ['batch_normalization_9[0][0]'\n",
      "                                                                    ]                             \n",
      "                                                                                                  \n",
      " conv1d_12 (Conv1D)          (None, 10, 256)              164096    ['activation_9[0][0]']        \n",
      "                                                                                                  \n",
      " batch_normalization_10 (Ba  (None, 10, 256)              1024      ['conv1d_12[0][0]']           \n",
      " tchNormalization)                                                                                \n",
      "                                                                                                  \n",
      " activation_10 (Activation)  (None, 10, 256)              0         ['batch_normalization_10[0][0]\n",
      "                                                                    ']                            \n",
      "                                                                                                  \n",
      " conv1d_13 (Conv1D)          (None, 10, 128)              98432     ['activation_10[0][0]']       \n",
      "                                                                                                  \n",
      " permute_3 (Permute)         (None, 120, 10)              0         ['input_5[0][0]']             \n",
      "                                                                                                  \n",
      " batch_normalization_11 (Ba  (None, 10, 128)              512       ['conv1d_13[0][0]']           \n",
      " tchNormalization)                                                                                \n",
      "                                                                                                  \n",
      " lstm_3 (LSTM)               (None, 8)                    608       ['permute_3[0][0]']           \n",
      "                                                                                                  \n",
      " activation_11 (Activation)  (None, 10, 128)              0         ['batch_normalization_11[0][0]\n",
      "                                                                    ']                            \n",
      "                                                                                                  \n",
      " dropout_3 (Dropout)         (None, 8)                    0         ['lstm_3[0][0]']              \n",
      "                                                                                                  \n",
      " global_average_pooling1d_3  (None, 128)                  0         ['activation_11[0][0]']       \n",
      "  (GlobalAveragePooling1D)                                                                        \n",
      "                                                                                                  \n",
      " concatenate_3 (Concatenate  (None, 136)                  0         ['dropout_3[0][0]',           \n",
      " )                                                                   'global_average_pooling1d_3[0\n",
      "                                                                    ][0]']                        \n",
      "                                                                                                  \n",
      " dense_4 (Dense)             (None, 3)                    411       ['concatenate_3[0][0]']       \n",
      "                                                                                                  \n",
      "==================================================================================================\n",
      "Total params: 388603 (1.48 MB)\n",
      "Trainable params: 387579 (1.48 MB)\n",
      "Non-trainable params: 1024 (4.00 KB)\n",
      "__________________________________________________________________________________________________\n",
      "Epoch 1/20\n"
     ]
    },
    {
     "name": "stderr",
     "output_type": "stream",
     "text": [
      "2023-10-19 15:46:00.017097: I tensorflow/core/grappler/optimizers/custom_graph_optimizer_registry.cc:114] Plugin optimizer for device_type GPU is enabled.\n",
      "2023-10-19 15:46:00.836729: I tensorflow/core/grappler/optimizers/custom_graph_optimizer_registry.cc:114] Plugin optimizer for device_type GPU is enabled.\n",
      "2023-10-19 15:46:06.938917: I tensorflow/core/grappler/optimizers/custom_graph_optimizer_registry.cc:114] Plugin optimizer for device_type GPU is enabled.\n"
     ]
    },
    {
     "name": "stdout",
     "output_type": "stream",
     "text": [
      "297/297 [==============================] - 68s 178ms/step - loss: 0.6196 - accuracy: 0.7370\n",
      "Epoch 2/20\n",
      "297/297 [==============================] - 32s 107ms/step - loss: 0.4730 - accuracy: 0.8057\n",
      "Epoch 3/20\n",
      "297/297 [==============================] - 35s 119ms/step - loss: 0.3983 - accuracy: 0.8432\n",
      "Epoch 4/20\n",
      "297/297 [==============================] - 38s 127ms/step - loss: 0.3235 - accuracy: 0.8779\n",
      "Epoch 5/20\n",
      "297/297 [==============================] - 39s 133ms/step - loss: 0.2696 - accuracy: 0.9022\n",
      "Epoch 6/20\n",
      "297/297 [==============================] - 33s 110ms/step - loss: 0.2185 - accuracy: 0.9211\n",
      "Epoch 7/20\n",
      "297/297 [==============================] - 35s 117ms/step - loss: 0.1976 - accuracy: 0.9310\n",
      "Epoch 8/20\n",
      "297/297 [==============================] - 33s 112ms/step - loss: 0.1707 - accuracy: 0.9408\n",
      "Epoch 9/20\n",
      "297/297 [==============================] - 34s 116ms/step - loss: 0.1400 - accuracy: 0.9515\n",
      "Epoch 10/20\n",
      "297/297 [==============================] - 35s 117ms/step - loss: 0.1252 - accuracy: 0.9559\n",
      "Epoch 11/20\n",
      "297/297 [==============================] - 32s 108ms/step - loss: 0.1125 - accuracy: 0.9613\n",
      "Epoch 12/20\n",
      "297/297 [==============================] - 33s 109ms/step - loss: 0.1048 - accuracy: 0.9648\n",
      "Epoch 13/20\n",
      "297/297 [==============================] - 32s 107ms/step - loss: 0.0927 - accuracy: 0.9694\n",
      "Epoch 14/20\n",
      "297/297 [==============================] - 32s 108ms/step - loss: 0.0831 - accuracy: 0.9720\n",
      "Epoch 15/20\n",
      "297/297 [==============================] - 33s 113ms/step - loss: 0.0778 - accuracy: 0.9743\n",
      "Epoch 16/20\n",
      "297/297 [==============================] - 41s 137ms/step - loss: 0.0701 - accuracy: 0.9764\n",
      "Epoch 17/20\n",
      "297/297 [==============================] - 32s 109ms/step - loss: 0.0678 - accuracy: 0.9764\n",
      "Epoch 18/20\n",
      "297/297 [==============================] - 34s 113ms/step - loss: 0.0595 - accuracy: 0.9803\n",
      "Epoch 19/20\n",
      "297/297 [==============================] - 34s 113ms/step - loss: 0.0674 - accuracy: 0.9777\n",
      "Epoch 20/20\n",
      "297/297 [==============================] - 31s 105ms/step - loss: 0.0545 - accuracy: 0.9826\n"
     ]
    },
    {
     "name": "stderr",
     "output_type": "stream",
     "text": [
      "2023-10-19 15:57:56.349770: I tensorflow/core/grappler/optimizers/custom_graph_optimizer_registry.cc:114] Plugin optimizer for device_type GPU is enabled.\n",
      "2023-10-19 15:57:56.687682: I tensorflow/core/grappler/optimizers/custom_graph_optimizer_registry.cc:114] Plugin optimizer for device_type GPU is enabled.\n"
     ]
    },
    {
     "name": "stdout",
     "output_type": "stream",
     "text": [
      "75/75 [==============================] - 7s 40ms/step\n",
      "0.9107406625870437\n",
      "75/75 [==============================] - 1s 12ms/step\n",
      "              precision    recall  f1-score   support\n",
      "\n",
      "  background       1.00      0.86      0.93      3187\n",
      "      banana       0.95      0.88      0.92      3320\n",
      "        wine       0.81      0.99      0.89      2971\n",
      "\n",
      "    accuracy                           0.91      9478\n",
      "   macro avg       0.92      0.91      0.91      9478\n",
      "weighted avg       0.92      0.91      0.91      9478\n",
      "\n"
     ]
    }
   ],
   "source": [
    "from sklearn.metrics import classification_report\n",
    "\n",
    "from sktime.classification.deep_learning.lstmfcn import LSTMFCNClassifier\n",
    "import pickle\n",
    "\n",
    "model = LSTMFCNClassifier(n_epochs=20, verbose=True)\n",
    "model.fit(X_train, y_train)\n",
    "print(model.score(X_test, y_test))\n",
    "pred = model.predict(X_test)\n",
    "print(classification_report(pred, y_test))\n",
    "pickle.dump(model, open(\"trained_model\", \"wb\"))"
   ]
  }
 ],
 "metadata": {
  "kernelspec": {
   "display_name": "Python 3 (ipykernel)",
   "language": "python",
   "name": "python3"
  },
  "language_info": {
   "codemirror_mode": {
    "name": "ipython",
    "version": 3
   },
   "file_extension": ".py",
   "mimetype": "text/x-python",
   "name": "python",
   "nbconvert_exporter": "python",
   "pygments_lexer": "ipython3",
   "version": "3.10.4"
  }
 },
 "nbformat": 4,
 "nbformat_minor": 5
}
